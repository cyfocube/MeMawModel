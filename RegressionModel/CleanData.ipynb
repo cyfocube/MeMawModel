{
 "cells": [
  {
   "cell_type": "code",
   "execution_count": 2,
   "metadata": {},
   "outputs": [],
   "source": [
    "import scipy as sci\n",
    "import joblib as job\n",
    "import numpy as np\n",
    "import pandas as pd\n",
    "from sklearn import linear_model\n",
    "from sklearn.linear_model import Ridge, Lasso, ElasticNet\n",
    "from sklearn.metrics import mean_squared_error,r2_score\n",
    "from sklearn.model_selection import train_test_split, cross_val_score\n",
    "from sklearn import model_selection\n",
    "from sklearn.preprocessing import MinMaxScaler\n",
    "import matplotlib.pyplot as plt\n",
    "from sklearn.linear_model import RidgeCV, LassoCV,ElasticNetCV, MultiTaskLasso, MultiTaskElasticNetCV\n",
    "from sklearn.linear_model import MultiTaskLassoCV\n",
    "from sklearn.metrics import r2_score\n",
    "from sklearn.datasets import make_regression\n",
    "from sklearn.ensemble import RandomForestClassifier\n",
    "from sklearn.ensemble import RandomForestRegressor\n",
    "#import statsmodels.api as sm\n",
    "from sklearn.preprocessing import OneHotEncoder\n",
    "import sklearn.metrics as sm\n",
    "\n",
    "import numpy as np\n",
    "import pandas as pd\n",
    "import matplotlib.pyplot as plt\n",
    "#%matplotlib inline\n",
    "from sklearn.linear_model import RidgeCV, LassoCV,ElasticNetCV\n"
   ]
  },
  {
   "cell_type": "code",
   "execution_count": null,
   "metadata": {},
   "outputs": [],
   "source": [
    "glulamrawdata= pd.read_csv('Glulam_2021plusLeadTime_NonHDH_RESULTS6.csv')"
   ]
  },
  {
   "cell_type": "code",
   "execution_count": 4,
   "metadata": {},
   "outputs": [
    {
     "ename": "NameError",
     "evalue": "name 'glulamrawdata' is not defined",
     "output_type": "error",
     "traceback": [
      "\u001b[1;31m---------------------------------------------------------------------------\u001b[0m",
      "\u001b[1;31mNameError\u001b[0m                                 Traceback (most recent call last)",
      "Input \u001b[1;32mIn [4]\u001b[0m, in \u001b[0;36m<cell line: 5>\u001b[1;34m()\u001b[0m\n\u001b[0;32m      2\u001b[0m encoder \u001b[38;5;241m=\u001b[39m OneHotEncoder(handle_unknown\u001b[38;5;241m=\u001b[39m\u001b[38;5;124m'\u001b[39m\u001b[38;5;124mignore\u001b[39m\u001b[38;5;124m'\u001b[39m)\n\u001b[0;32m      4\u001b[0m \u001b[38;5;66;03m#perform one-hot encoding on 'team' column \u001b[39;00m\n\u001b[1;32m----> 5\u001b[0m materialgrouping \u001b[38;5;241m=\u001b[39m pd\u001b[38;5;241m.\u001b[39mDataFrame(encoder\u001b[38;5;241m.\u001b[39mfit_transform(\u001b[43mglulamrawdata\u001b[49m[[\u001b[38;5;124m'\u001b[39m\u001b[38;5;124mMaterial Grouping\u001b[39m\u001b[38;5;124m'\u001b[39m]])\u001b[38;5;241m.\u001b[39mtoarray())\n\u001b[0;32m      6\u001b[0m materialgrouping\u001b[38;5;241m.\u001b[39mcolumns \u001b[38;5;241m=\u001b[39m [\u001b[38;5;124m'\u001b[39m\u001b[38;5;124mGGGBA\u001b[39m\u001b[38;5;124m'\u001b[39m,  \u001b[38;5;124m'\u001b[39m\u001b[38;5;124mGGGBB\u001b[39m\u001b[38;5;124m'\u001b[39m,  \u001b[38;5;124m'\u001b[39m\u001b[38;5;124mGGGBI\u001b[39m\u001b[38;5;124m'\u001b[39m,  \u001b[38;5;124m'\u001b[39m\u001b[38;5;124mGGGCA\u001b[39m\u001b[38;5;124m'\u001b[39m,  \u001b[38;5;124m'\u001b[39m\u001b[38;5;124mGGGBAOO\u001b[39m\u001b[38;5;124m'\u001b[39m, \u001b[38;5;124m'\u001b[39m\u001b[38;5;124mGGGBTRT\u001b[39m\u001b[38;5;124m'\u001b[39m]\n\u001b[0;32m      8\u001b[0m pd\u001b[38;5;241m.\u001b[39mset_option(\u001b[38;5;124m'\u001b[39m\u001b[38;5;124mdisplay.max_columns\u001b[39m\u001b[38;5;124m'\u001b[39m, \u001b[38;5;28;01mNone\u001b[39;00m)\n",
      "\u001b[1;31mNameError\u001b[0m: name 'glulamrawdata' is not defined"
     ]
    }
   ],
   "source": [
    "#creating instance of one-hot-encoder\n",
    "encoder = OneHotEncoder(handle_unknown='ignore')\n",
    "\n",
    "#perform one-hot encoding on 'team' column \n",
    "materialgrouping = pd.DataFrame(encoder.fit_transform(glulamrawdata[['Material Grouping']]).toarray())\n",
    "materialgrouping.columns = ['GGGBA',  'GGGBB',  'GGGBI',  'GGGCA',  'GGGBAOO', 'GGGBTRT']\n",
    "\n",
    "pd.set_option('display.max_columns', None)\n",
    "\n",
    "glulamdummy_1= pd.concat([materialgrouping, glulamrawdata], axis=1, join='inner')\n",
    "\n"
   ]
  },
  {
   "cell_type": "code",
   "execution_count": null,
   "metadata": {},
   "outputs": [],
   "source": [
    "glulamdummysort_2 = glulamdummy_1.sort_values(by ='Lead Time Bucket', ascending = 0)\n",
    "leadtime=pd.DataFrame(encoder.fit_transform(glulamdummysort_2[['Lead Time Bucket']]).toarray())\n",
    "leadtime.columns = ['OKLT',  'GLT',  'BLT']\n",
    "glulamdummysortconcat_3= pd.concat([leadtime, glulamdummysort_2], axis=1, join='inner')"
   ]
  },
  {
   "cell_type": "code",
   "execution_count": null,
   "metadata": {},
   "outputs": [],
   "source": [
    "#glulam4 = glulam3.sort_values(by ='SOCreateDate', ascending = 0)"
   ]
  },
  {
   "cell_type": "code",
   "execution_count": null,
   "metadata": {},
   "outputs": [],
   "source": [
    "#Margin normalization\n",
    "Margin=glulamdummysortconcat_3[\"Margin\"]\n",
    "Margin1 = Margin.to_numpy()\n",
    "scaler = MinMaxScaler(feature_range=(0,1))\n",
    "Margin2 = scaler.fit_transform((Margin1).reshape(-1,1))\n",
    "Margintransfo=pd.DataFrame(Margin2, columns=['Margintransfo'])\n",
    "glulam_margintransfo_4= pd.concat([Margintransfo, glulamdummysortconcat_3], axis=1, join='inner')\n"
   ]
  },
  {
   "cell_type": "code",
   "execution_count": null,
   "metadata": {},
   "outputs": [],
   "source": [
    "#Net Weight normalization\n",
    "NetWeight=glulam_margintransfo_4[\"Net Weight\"]\n",
    "NetWeight1 = NetWeight.to_numpy()\n",
    "scaler = MinMaxScaler(feature_range=(0,1))\n",
    "NetWeight2 = scaler.fit_transform((NetWeight1).reshape(-1,1))\n",
    "NetWeighttransfo=pd.DataFrame(NetWeight2, columns=['NetWeight3'])\n",
    "glulam_margin_netweight_transfo_5= pd.concat([NetWeighttransfo, glulam_margintransfo_4], axis=1, join='inner')\n",
    "\n"
   ]
  },
  {
   "cell_type": "code",
   "execution_count": null,
   "metadata": {},
   "outputs": [],
   "source": [
    "\n",
    "glulam_margin_netweight_transfo_5['OKLT-NWT']= glulam_margin_netweight_transfo_5['OKLT']*glulam_margin_netweight_transfo_5['NetWeight3']\n",
    "\n"
   ]
  },
  {
   "cell_type": "code",
   "execution_count": null,
   "metadata": {},
   "outputs": [],
   "source": [
    "glulam_margin_netweight_transfo_5['GLT-NWT']= glulam_margin_netweight_transfo_5['GLT']*glulam_margin_netweight_transfo_5['NetWeight3']\n"
   ]
  },
  {
   "cell_type": "code",
   "execution_count": null,
   "metadata": {},
   "outputs": [],
   "source": [
    "glulam_margin_netweight_transfo_5['BLT-NWT']= glulam_margin_netweight_transfo_5['BLT']*glulam_margin_netweight_transfo_5['NetWeight3']\n",
    "\n"
   ]
  },
  {
   "cell_type": "code",
   "execution_count": null,
   "metadata": {},
   "outputs": [],
   "source": [
    "glulam_margin_netweight_transfo_5['GGGBA-NWT']= glulam_margin_netweight_transfo_5['GGGBA']*glulam_margin_netweight_transfo_5['NetWeight3']\n"
   ]
  },
  {
   "cell_type": "code",
   "execution_count": null,
   "metadata": {},
   "outputs": [],
   "source": [
    "glulam_margin_netweight_transfo_5['GGGBB-NWT']= glulam_margin_netweight_transfo_5['GGGBB']*glulam_margin_netweight_transfo_5['NetWeight3']\n",
    "\n"
   ]
  },
  {
   "cell_type": "code",
   "execution_count": null,
   "metadata": {},
   "outputs": [],
   "source": [
    "\n",
    "glulam_margin_netweight_transfo_5['GGGBI-NWT']= glulam_margin_netweight_transfo_5['GGGBI']*glulam_margin_netweight_transfo_5['NetWeight3']\n"
   ]
  },
  {
   "cell_type": "code",
   "execution_count": null,
   "metadata": {},
   "outputs": [],
   "source": [
    "glulam_margin_netweight_transfo_5['GGGCA-NWT']= glulam_margin_netweight_transfo_5['GGGCA']*glulam_margin_netweight_transfo_5['NetWeight3']\n"
   ]
  },
  {
   "cell_type": "code",
   "execution_count": null,
   "metadata": {},
   "outputs": [],
   "source": [
    "glulam_margin_netweight_transfo_5['GGGBAOO-NWT']= glulam_margin_netweight_transfo_5['GGGBAOO']*glulam_margin_netweight_transfo_5['NetWeight3']\n"
   ]
  },
  {
   "cell_type": "code",
   "execution_count": null,
   "metadata": {},
   "outputs": [],
   "source": [
    "glulam_margin_netweight_transfo_5['GGGBTRT-NWT']= glulam_margin_netweight_transfo_5['GGGBTRT']*glulam_margin_netweight_transfo_5['NetWeight3']"
   ]
  },
  {
   "cell_type": "code",
   "execution_count": null,
   "metadata": {},
   "outputs": [],
   "source": [
    "#Stat-Qty normalization\n",
    "StatQty=glulam_margin_netweight_transfo_5[\"Stat Qty\"]\n",
    "StatQty1 = StatQty.to_numpy()\n",
    "scaler = MinMaxScaler(feature_range=(0,1))\n",
    "StatQty2 = scaler.fit_transform((StatQty1).reshape(-1,1))\n",
    "StatQty3=pd.DataFrame(StatQty2, columns=['StatQty3'])\n",
    "\n",
    "glulam_margin_netweight__statqty_transfo_6= pd.concat([StatQty3, glulam_margin_netweight_transfo_5], axis=1, join='inner')\n",
    "glulam_margin_netweight__statqty_transfo_6['OKLT-StatQty3']= glulam_margin_netweight__statqty_transfo_6['OKLT']*glulam_margin_netweight__statqty_transfo_6['StatQty3']\n",
    "glulam_margin_netweight__statqty_transfo_6['GLT-StatQty3']= glulam_margin_netweight__statqty_transfo_6['GLT']*glulam_margin_netweight__statqty_transfo_6['StatQty3']\n",
    "glulam_margin_netweight__statqty_transfo_6['BLT-StatQty3']= glulam_margin_netweight__statqty_transfo_6['BLT']*glulam_margin_netweight__statqty_transfo_6['StatQty3']\n",
    "glulam_margin_netweight__statqty_transfo_6['GGGBA-StatQty3']= glulam_margin_netweight__statqty_transfo_6['GGGBA']*glulam_margin_netweight__statqty_transfo_6['StatQty3']\n",
    "glulam_margin_netweight__statqty_transfo_6['GGGBB-StatQty3']= glulam_margin_netweight__statqty_transfo_6['GGGBB']*glulam_margin_netweight__statqty_transfo_6['StatQty3']\n",
    "glulam_margin_netweight__statqty_transfo_6['GGGBI-StatQty3']= glulam_margin_netweight__statqty_transfo_6['GGGBI']*glulam_margin_netweight__statqty_transfo_6['StatQty3']\n",
    "glulam_margin_netweight__statqty_transfo_6['GGGCA-StatQty3']= glulam_margin_netweight__statqty_transfo_6['GGGCA']*glulam_margin_netweight__statqty_transfo_6['StatQty3']\n",
    "glulam_margin_netweight__statqty_transfo_6['GGGBAOO-StatQty3']= glulam_margin_netweight__statqty_transfo_6['GGGBAOO']*glulam_margin_netweight__statqty_transfo_6['StatQty3']\n",
    "glulam_margin_netweight__statqty_transfo_6['GGGBTRT-StatQty3']= glulam_margin_netweight__statqty_transfo_6['GGGBTRT']*glulam_margin_netweight__statqty_transfo_6['StatQty3']\n"
   ]
  },
  {
   "cell_type": "code",
   "execution_count": null,
   "metadata": {},
   "outputs": [],
   "source": [
    "\n",
    "glulam_margin_netweight_transformed_7= glulam_margin_netweight__statqty_transfo_6[['StatQty3', 'NetWeight3','Margin3', 'OKLT', 'GLT','BLT','GGGBA',\t'GGGBB', 'GGGBI', 'GGGCA', 'GGGBAOO', 'GGGBTRT', 'OKLT-NWT','GLT-NWT','BLT-NWT','GGGBA-NWT','GGGBB-NWT','GGGBI-NWT','GGGCA-NWT','GGGBAOO-NWT','GGGBTRT-NWT','OKLT-StatQty3','GLT-StatQty3',\t'BLT-StatQty3',\t'GGGBA-StatQty3','GGGBB-StatQty3',\t'GGGBI-StatQty3','GGGCA-StatQty3',\t'GGGBAOO-StatQty3',\t'GGGBTRT-StatQty3']]   "
   ]
  },
  {
   "cell_type": "code",
   "execution_count": null,
   "metadata": {},
   "outputs": [],
   "source": [
    "glulamMargin=glulam_margin_netweight_transformed_7['Margin3']\n",
    "glulamFeatures=glulam_margin_netweight_transformed_7.drop(['Margin3'],axis=1)"
   ]
  },
  {
   "cell_type": "code",
   "execution_count": null,
   "metadata": {},
   "outputs": [
    {
     "data": {
      "text/plain": [
       "50296"
      ]
     },
     "execution_count": 20,
     "metadata": {},
     "output_type": "execute_result"
    }
   ],
   "source": [
    "Testsize=round(0.3*len(glulam_margin_netweight_transformed_7.index))\n",
    "Testsize\n"
   ]
  },
  {
   "cell_type": "code",
   "execution_count": null,
   "metadata": {},
   "outputs": [],
   "source": [
    "glulamFeatures_traina=glulamFeatures[:-Testsize]\n",
    "glulamFeatures_testa=glulamFeatures[-Testsize:]\n",
    "glulamMargin_traina=glulamMargin[:-Testsize]\n",
    "glulamMargin_testa=glulamMargin[-Testsize:]"
   ]
  },
  {
   "cell_type": "code",
   "execution_count": null,
   "metadata": {},
   "outputs": [
    {
     "name": "stdout",
     "output_type": "stream",
     "text": [
      "Stored 'glulamFeatures_traina' (DataFrame)\n",
      "Stored 'glulamFeatures_testa' (DataFrame)\n",
      "Stored 'glulamMargin_traina' (Series)\n",
      "Stored 'glulamMargin_testa' (Series)\n"
     ]
    }
   ],
   "source": [
    "%store glulamFeatures_traina\n",
    "%store glulamFeatures_testa\n",
    "%store glulamMargin_traina\n",
    "%store glulamMargin_testa"
   ]
  },
  {
   "cell_type": "code",
   "execution_count": null,
   "metadata": {},
   "outputs": [],
   "source": [
    "#glulamFeatures_train, glulamFeatures_test, glulamMargin_train, glulamMargin_test = train_test_split(glulamFeatures,glulamMargin,   test_size=0.30, random_state=101)"
   ]
  },
  {
   "cell_type": "markdown",
   "metadata": {},
   "source": []
  }
 ],
 "metadata": {
  "kernelspec": {
   "display_name": "Python 3.10.5 64-bit",
   "language": "python",
   "name": "python3"
  },
  "language_info": {
   "codemirror_mode": {
    "name": "ipython",
    "version": 3
   },
   "file_extension": ".py",
   "mimetype": "text/x-python",
   "name": "python",
   "nbconvert_exporter": "python",
   "pygments_lexer": "ipython3",
   "version": "3.9.12"
  },
  "orig_nbformat": 4,
  "vscode": {
   "interpreter": {
    "hash": "debe3f3f75bfddb878a2982642714d645cfae3c5bae2e19ad2f59df9ee6cf6af"
   }
  }
 },
 "nbformat": 4,
 "nbformat_minor": 2
}
