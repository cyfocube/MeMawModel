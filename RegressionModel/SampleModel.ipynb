{
 "cells": [
  {
   "cell_type": "code",
   "execution_count": null,
   "metadata": {},
   "outputs": [],
   "source": [
    "\n",
    "from tensorflow import keras\n",
    "from tensorflow.keras import layers\n",
    "from keras import backend as K\n",
    "from keras.models import Sequential\n",
    "from keras.layers import Activation\n",
    "from keras.layers.core import Dense\n",
    "from keras.optimizers import Adam\n",
    "from keras.metrics import categorical_crossentropy"
   ]
  },
  {
   "cell_type": "code",
   "execution_count": null,
   "metadata": {},
   "outputs": [],
   "source": [
    "import scipy as sci\n",
    "import joblib as job\n",
    "import numpy as np\n",
    "import pandas as pd\n",
    "from sklearn import linear_model\n",
    "from sklearn.linear_model import Ridge, Lasso, ElasticNet\n",
    "from sklearn.metrics import mean_squared_error,r2_score\n",
    "from sklearn.model_selection import train_test_split, cross_val_score\n",
    "from sklearn import model_selection\n",
    "from sklearn.preprocessing import MinMaxScaler\n",
    "import matplotlib.pyplot as plt\n",
    "from sklearn.linear_model import RidgeCV, LassoCV,ElasticNetCV, MultiTaskLasso, MultiTaskElasticNetCV\n",
    "from sklearn.linear_model import MultiTaskLassoCV\n",
    "from sklearn.metrics import r2_score\n",
    "from sklearn.datasets import make_regression\n",
    "from sklearn.ensemble import RandomForestClassifier\n",
    "from sklearn.ensemble import RandomForestRegressor\n",
    "#import statsmodels.api as sm\n",
    "from sklearn.preprocessing import OneHotEncoder\n",
    "import sklearn.metrics as sm\n",
    "\n",
    "import numpy as np\n",
    "import pandas as pd\n",
    "import matplotlib.pyplot as plt\n",
    "#%matplotlib inline\n",
    "from sklearn.linear_model import RidgeCV, LassoCV,ElasticNetCV\n"
   ]
  },
  {
   "cell_type": "code",
   "execution_count": 3,
   "metadata": {},
   "outputs": [],
   "source": [
    "%store -r glulamFeatures_traina\n",
    "%store -r glulamFeatures_testa\n",
    "%store -r glulamMargin_traina\n",
    "%store -r glulamMargin_testa"
   ]
  },
  {
   "cell_type": "code",
   "execution_count": 4,
   "metadata": {},
   "outputs": [],
   "source": [
    "from sklearn.linear_model import LinearRegression"
   ]
  },
  {
   "cell_type": "code",
   "execution_count": 5,
   "metadata": {},
   "outputs": [
    {
     "name": "stderr",
     "output_type": "stream",
     "text": [
      "c:\\Users\\oladi\\AppData\\Local\\Programs\\Python\\Python310\\lib\\site-packages\\sklearn\\linear_model\\_base.py:141: FutureWarning: 'normalize' was deprecated in version 1.0 and will be removed in 1.2.\n",
      "If you wish to scale the data, use Pipeline with a StandardScaler in a preprocessing stage. To reproduce the previous behavior:\n",
      "\n",
      "from sklearn.pipeline import make_pipeline\n",
      "\n",
      "model = make_pipeline(StandardScaler(with_mean=False), LinearRegression())\n",
      "\n",
      "If you wish to pass a sample_weight parameter, you need to pass it as a fit parameter to each step of the pipeline as follows:\n",
      "\n",
      "kwargs = {s[0] + '__sample_weight': sample_weight for s in model.steps}\n",
      "model.fit(X, y, **kwargs)\n",
      "\n",
      "\n",
      "  warnings.warn(\n"
     ]
    },
    {
     "data": {
      "text/html": [
       "<style>#sk-container-id-1 {color: black;background-color: white;}#sk-container-id-1 pre{padding: 0;}#sk-container-id-1 div.sk-toggleable {background-color: white;}#sk-container-id-1 label.sk-toggleable__label {cursor: pointer;display: block;width: 100%;margin-bottom: 0;padding: 0.3em;box-sizing: border-box;text-align: center;}#sk-container-id-1 label.sk-toggleable__label-arrow:before {content: \"▸\";float: left;margin-right: 0.25em;color: #696969;}#sk-container-id-1 label.sk-toggleable__label-arrow:hover:before {color: black;}#sk-container-id-1 div.sk-estimator:hover label.sk-toggleable__label-arrow:before {color: black;}#sk-container-id-1 div.sk-toggleable__content {max-height: 0;max-width: 0;overflow: hidden;text-align: left;background-color: #f0f8ff;}#sk-container-id-1 div.sk-toggleable__content pre {margin: 0.2em;color: black;border-radius: 0.25em;background-color: #f0f8ff;}#sk-container-id-1 input.sk-toggleable__control:checked~div.sk-toggleable__content {max-height: 200px;max-width: 100%;overflow: auto;}#sk-container-id-1 input.sk-toggleable__control:checked~label.sk-toggleable__label-arrow:before {content: \"▾\";}#sk-container-id-1 div.sk-estimator input.sk-toggleable__control:checked~label.sk-toggleable__label {background-color: #d4ebff;}#sk-container-id-1 div.sk-label input.sk-toggleable__control:checked~label.sk-toggleable__label {background-color: #d4ebff;}#sk-container-id-1 input.sk-hidden--visually {border: 0;clip: rect(1px 1px 1px 1px);clip: rect(1px, 1px, 1px, 1px);height: 1px;margin: -1px;overflow: hidden;padding: 0;position: absolute;width: 1px;}#sk-container-id-1 div.sk-estimator {font-family: monospace;background-color: #f0f8ff;border: 1px dotted black;border-radius: 0.25em;box-sizing: border-box;margin-bottom: 0.5em;}#sk-container-id-1 div.sk-estimator:hover {background-color: #d4ebff;}#sk-container-id-1 div.sk-parallel-item::after {content: \"\";width: 100%;border-bottom: 1px solid gray;flex-grow: 1;}#sk-container-id-1 div.sk-label:hover label.sk-toggleable__label {background-color: #d4ebff;}#sk-container-id-1 div.sk-serial::before {content: \"\";position: absolute;border-left: 1px solid gray;box-sizing: border-box;top: 0;bottom: 0;left: 50%;z-index: 0;}#sk-container-id-1 div.sk-serial {display: flex;flex-direction: column;align-items: center;background-color: white;padding-right: 0.2em;padding-left: 0.2em;position: relative;}#sk-container-id-1 div.sk-item {position: relative;z-index: 1;}#sk-container-id-1 div.sk-parallel {display: flex;align-items: stretch;justify-content: center;background-color: white;position: relative;}#sk-container-id-1 div.sk-item::before, #sk-container-id-1 div.sk-parallel-item::before {content: \"\";position: absolute;border-left: 1px solid gray;box-sizing: border-box;top: 0;bottom: 0;left: 50%;z-index: -1;}#sk-container-id-1 div.sk-parallel-item {display: flex;flex-direction: column;z-index: 1;position: relative;background-color: white;}#sk-container-id-1 div.sk-parallel-item:first-child::after {align-self: flex-end;width: 50%;}#sk-container-id-1 div.sk-parallel-item:last-child::after {align-self: flex-start;width: 50%;}#sk-container-id-1 div.sk-parallel-item:only-child::after {width: 0;}#sk-container-id-1 div.sk-dashed-wrapped {border: 1px dashed gray;margin: 0 0.4em 0.5em 0.4em;box-sizing: border-box;padding-bottom: 0.4em;background-color: white;}#sk-container-id-1 div.sk-label label {font-family: monospace;font-weight: bold;display: inline-block;line-height: 1.2em;}#sk-container-id-1 div.sk-label-container {text-align: center;}#sk-container-id-1 div.sk-container {/* jupyter's `normalize.less` sets `[hidden] { display: none; }` but bootstrap.min.css set `[hidden] { display: none !important; }` so we also need the `!important` here to be able to override the default hidden behavior on the sphinx rendered scikit-learn.org. See: https://github.com/scikit-learn/scikit-learn/issues/21755 */display: inline-block !important;position: relative;}#sk-container-id-1 div.sk-text-repr-fallback {display: none;}</style><div id=\"sk-container-id-1\" class=\"sk-top-container\"><div class=\"sk-text-repr-fallback\"><pre>LinearRegression(normalize=True)</pre><b>In a Jupyter environment, please rerun this cell to show the HTML representation or trust the notebook. <br />On GitHub, the HTML representation is unable to render, please try loading this page with nbviewer.org.</b></div><div class=\"sk-container\" hidden><div class=\"sk-item\"><div class=\"sk-estimator sk-toggleable\"><input class=\"sk-toggleable__control sk-hidden--visually\" id=\"sk-estimator-id-1\" type=\"checkbox\" checked><label for=\"sk-estimator-id-1\" class=\"sk-toggleable__label sk-toggleable__label-arrow\">LinearRegression</label><div class=\"sk-toggleable__content\"><pre>LinearRegression(normalize=True)</pre></div></div></div></div></div>"
      ],
      "text/plain": [
       "LinearRegression(normalize=True)"
      ]
     },
     "execution_count": 5,
     "metadata": {},
     "output_type": "execute_result"
    }
   ],
   "source": [
    "lin_model1all= LinearRegression(normalize=True)\n",
    "lin_model1all.fit(glulamFeatures_traina, glulamMargin_traina)\n"
   ]
  },
  {
   "cell_type": "code",
   "execution_count": 6,
   "metadata": {},
   "outputs": [],
   "source": [
    "Margin_pred_model1all = lin_model1all.predict(glulamFeatures_traina)"
   ]
  },
  {
   "cell_type": "code",
   "execution_count": 7,
   "metadata": {},
   "outputs": [
    {
     "name": "stdout",
     "output_type": "stream",
     "text": [
      "Mean absolute error = 0.0\n",
      "Mean squared error = 0.0\n",
      "Median absolute error = 0.0\n",
      "Explain variance score = 0.65\n",
      "R2 score = 0.65\n"
     ]
    }
   ],
   "source": [
    "import sklearn.metrics as sm\n",
    "print(\"Mean absolute error =\", round(sm.mean_absolute_error(glulamMargin_traina, Margin_pred_model1all), 2)) \n",
    "print(\"Mean squared error =\", round(sm.mean_squared_error(glulamMargin_traina, Margin_pred_model1all), 2)) \n",
    "print(\"Median absolute error =\", round(sm.median_absolute_error(glulamMargin_traina, Margin_pred_model1all), 2)) \n",
    "print(\"Explain variance score =\", round(sm.explained_variance_score(glulamMargin_traina, Margin_pred_model1all), 2)) \n",
    "print(\"R2 score =\", round(sm.r2_score(glulamMargin_traina,Margin_pred_model1all), 2))"
   ]
  },
  {
   "cell_type": "code",
   "execution_count": 8,
   "metadata": {},
   "outputs": [
    {
     "data": {
      "text/html": [
       "<div>\n",
       "<style scoped>\n",
       "    .dataframe tbody tr th:only-of-type {\n",
       "        vertical-align: middle;\n",
       "    }\n",
       "\n",
       "    .dataframe tbody tr th {\n",
       "        vertical-align: top;\n",
       "    }\n",
       "\n",
       "    .dataframe thead th {\n",
       "        text-align: right;\n",
       "    }\n",
       "</style>\n",
       "<table border=\"1\" class=\"dataframe\">\n",
       "  <thead>\n",
       "    <tr style=\"text-align: right;\">\n",
       "      <th></th>\n",
       "      <th>glulamMargin_traina</th>\n",
       "    </tr>\n",
       "  </thead>\n",
       "  <tbody>\n",
       "    <tr>\n",
       "      <th>StatQty3</th>\n",
       "      <td>-1.340028e+11</td>\n",
       "    </tr>\n",
       "    <tr>\n",
       "      <th>NetWeight3</th>\n",
       "      <td>-1.352759e+10</td>\n",
       "    </tr>\n",
       "    <tr>\n",
       "      <th>OKLT</th>\n",
       "      <td>2.860807e+09</td>\n",
       "    </tr>\n",
       "    <tr>\n",
       "      <th>GLT</th>\n",
       "      <td>2.860807e+09</td>\n",
       "    </tr>\n",
       "    <tr>\n",
       "      <th>BLT</th>\n",
       "      <td>2.860807e+09</td>\n",
       "    </tr>\n",
       "    <tr>\n",
       "      <th>GGGBA</th>\n",
       "      <td>-3.150066e+08</td>\n",
       "    </tr>\n",
       "    <tr>\n",
       "      <th>GGGBB</th>\n",
       "      <td>-1.439982e+08</td>\n",
       "    </tr>\n",
       "    <tr>\n",
       "      <th>GGGBI</th>\n",
       "      <td>9.991428e+05</td>\n",
       "    </tr>\n",
       "    <tr>\n",
       "      <th>GGGCA</th>\n",
       "      <td>8.123493e-02</td>\n",
       "    </tr>\n",
       "    <tr>\n",
       "      <th>GGGBAOO</th>\n",
       "      <td>0.000000e+00</td>\n",
       "    </tr>\n",
       "    <tr>\n",
       "      <th>GGGBTRT</th>\n",
       "      <td>2.441406e-04</td>\n",
       "    </tr>\n",
       "    <tr>\n",
       "      <th>OKLT-NWT</th>\n",
       "      <td>2.683586e+10</td>\n",
       "    </tr>\n",
       "    <tr>\n",
       "      <th>GLT-NWT</th>\n",
       "      <td>2.683586e+10</td>\n",
       "    </tr>\n",
       "    <tr>\n",
       "      <th>BLT-NWT</th>\n",
       "      <td>2.683586e+10</td>\n",
       "    </tr>\n",
       "    <tr>\n",
       "      <th>GGGBA-NWT</th>\n",
       "      <td>-1.330827e+10</td>\n",
       "    </tr>\n",
       "    <tr>\n",
       "      <th>GGGBB-NWT</th>\n",
       "      <td>0.000000e+00</td>\n",
       "    </tr>\n",
       "    <tr>\n",
       "      <th>GGGBI-NWT</th>\n",
       "      <td>0.000000e+00</td>\n",
       "    </tr>\n",
       "    <tr>\n",
       "      <th>GGGCA-NWT</th>\n",
       "      <td>0.000000e+00</td>\n",
       "    </tr>\n",
       "    <tr>\n",
       "      <th>GGGBAOO-NWT</th>\n",
       "      <td>0.000000e+00</td>\n",
       "    </tr>\n",
       "    <tr>\n",
       "      <th>GGGBTRT-NWT</th>\n",
       "      <td>0.000000e+00</td>\n",
       "    </tr>\n",
       "    <tr>\n",
       "      <th>OKLT-StatQty3</th>\n",
       "      <td>6.399737e+10</td>\n",
       "    </tr>\n",
       "    <tr>\n",
       "      <th>GLT-StatQty3</th>\n",
       "      <td>6.399737e+10</td>\n",
       "    </tr>\n",
       "    <tr>\n",
       "      <th>BLT-StatQty3</th>\n",
       "      <td>6.399737e+10</td>\n",
       "    </tr>\n",
       "    <tr>\n",
       "      <th>GGGBA-StatQty3</th>\n",
       "      <td>7.000545e+10</td>\n",
       "    </tr>\n",
       "    <tr>\n",
       "      <th>GGGBB-StatQty3</th>\n",
       "      <td>0.000000e+00</td>\n",
       "    </tr>\n",
       "    <tr>\n",
       "      <th>GGGBI-StatQty3</th>\n",
       "      <td>0.000000e+00</td>\n",
       "    </tr>\n",
       "    <tr>\n",
       "      <th>GGGCA-StatQty3</th>\n",
       "      <td>0.000000e+00</td>\n",
       "    </tr>\n",
       "    <tr>\n",
       "      <th>GGGBAOO-StatQty3</th>\n",
       "      <td>0.000000e+00</td>\n",
       "    </tr>\n",
       "    <tr>\n",
       "      <th>GGGBTRT-StatQty3</th>\n",
       "      <td>0.000000e+00</td>\n",
       "    </tr>\n",
       "  </tbody>\n",
       "</table>\n",
       "</div>"
      ],
      "text/plain": [
       "                  glulamMargin_traina\n",
       "StatQty3                -1.340028e+11\n",
       "NetWeight3              -1.352759e+10\n",
       "OKLT                     2.860807e+09\n",
       "GLT                      2.860807e+09\n",
       "BLT                      2.860807e+09\n",
       "GGGBA                   -3.150066e+08\n",
       "GGGBB                   -1.439982e+08\n",
       "GGGBI                    9.991428e+05\n",
       "GGGCA                    8.123493e-02\n",
       "GGGBAOO                  0.000000e+00\n",
       "GGGBTRT                  2.441406e-04\n",
       "OKLT-NWT                 2.683586e+10\n",
       "GLT-NWT                  2.683586e+10\n",
       "BLT-NWT                  2.683586e+10\n",
       "GGGBA-NWT               -1.330827e+10\n",
       "GGGBB-NWT                0.000000e+00\n",
       "GGGBI-NWT                0.000000e+00\n",
       "GGGCA-NWT                0.000000e+00\n",
       "GGGBAOO-NWT              0.000000e+00\n",
       "GGGBTRT-NWT              0.000000e+00\n",
       "OKLT-StatQty3            6.399737e+10\n",
       "GLT-StatQty3             6.399737e+10\n",
       "BLT-StatQty3             6.399737e+10\n",
       "GGGBA-StatQty3           7.000545e+10\n",
       "GGGBB-StatQty3           0.000000e+00\n",
       "GGGBI-StatQty3           0.000000e+00\n",
       "GGGCA-StatQty3           0.000000e+00\n",
       "GGGBAOO-StatQty3         0.000000e+00\n",
       "GGGBTRT-StatQty3         0.000000e+00"
      ]
     },
     "execution_count": 8,
     "metadata": {},
     "output_type": "execute_result"
    }
   ],
   "source": [
    "pd.set_option('display.max_rows', None)\n",
    "coeff_model1all = pd.DataFrame(lin_model1all.coef_[0:29], index=glulamFeatures_traina.columns[0:29], \n",
    "                          columns=['glulamMargin_traina'])\n",
    "coeff_model1all \n"
   ]
  },
  {
   "cell_type": "code",
   "execution_count": 9,
   "metadata": {},
   "outputs": [
    {
     "data": {
      "text/plain": [
       "<matplotlib.collections.PathCollection at 0x245deb47670>"
      ]
     },
     "execution_count": 9,
     "metadata": {},
     "output_type": "execute_result"
    },
    {
     "data": {
      "image/png": "[encoded data removed]",
      "text/plain": [
       "<Figure size 864x576 with 1 Axes>"
      ]
     },
     "metadata": {
      "needs_background": "light"
     },
     "output_type": "display_data"
    }
   ],
   "source": [
    "plt.figure(figsize=(12,8))\n",
    "plt.xlabel(\"Predicted Margin\",fontsize=20)\n",
    "plt.ylabel(\"Actual Margin\",fontsize=20)\n",
    "plt.grid(1)\n",
    "plt.scatter(glulamMargin_traina, Margin_pred_model1all,edgecolors=(0,0,0),lw=2,s=80)\n"
   ]
  },
  {
   "cell_type": "code",
   "execution_count": 10,
   "metadata": {},
   "outputs": [],
   "source": [
    "# Linear Regression  regularization or cross validation (LASSO)"
   ]
  },
  {
   "cell_type": "code",
   "execution_count": 11,
   "metadata": {},
   "outputs": [],
   "source": [
    "lin_model1allL = LassoCV(cv=10,verbose=0,normalize=True,eps=0.000001,n_alphas=7, tol=0.0001,max_iter=50000000)"
   ]
  },
  {
   "cell_type": "code",
   "execution_count": 12,
   "metadata": {},
   "outputs": [
    {
     "name": "stderr",
     "output_type": "stream",
     "text": [
      "c:\\Users\\oladi\\AppData\\Local\\Programs\\Python\\Python310\\lib\\site-packages\\sklearn\\linear_model\\_base.py:141: FutureWarning: 'normalize' was deprecated in version 1.0 and will be removed in 1.2.\n",
      "If you wish to scale the data, use Pipeline with a StandardScaler in a preprocessing stage. To reproduce the previous behavior:\n",
      "\n",
      "from sklearn.pipeline import make_pipeline\n",
      "\n",
      "model = make_pipeline(StandardScaler(with_mean=False), Lasso())\n",
      "\n",
      "If you wish to pass a sample_weight parameter, you need to pass it as a fit parameter to each step of the pipeline as follows:\n",
      "\n",
      "kwargs = {s[0] + '__sample_weight': sample_weight for s in model.steps}\n",
      "model.fit(X, y, **kwargs)\n",
      "\n",
      "Set parameter alpha to: original_alpha * np.sqrt(n_samples). \n",
      "  warnings.warn(\n"
     ]
    },
    {
     "data": {
      "text/html": [
       "<style>#sk-container-id-2 {color: black;background-color: white;}#sk-container-id-2 pre{padding: 0;}#sk-container-id-2 div.sk-toggleable {background-color: white;}#sk-container-id-2 label.sk-toggleable__label {cursor: pointer;display: block;width: 100%;margin-bottom: 0;padding: 0.3em;box-sizing: border-box;text-align: center;}#sk-container-id-2 label.sk-toggleable__label-arrow:before {content: \"▸\";float: left;margin-right: 0.25em;color: #696969;}#sk-container-id-2 label.sk-toggleable__label-arrow:hover:before {color: black;}#sk-container-id-2 div.sk-estimator:hover label.sk-toggleable__label-arrow:before {color: black;}#sk-container-id-2 div.sk-toggleable__content {max-height: 0;max-width: 0;overflow: hidden;text-align: left;background-color: #f0f8ff;}#sk-container-id-2 div.sk-toggleable__content pre {margin: 0.2em;color: black;border-radius: 0.25em;background-color: #f0f8ff;}#sk-container-id-2 input.sk-toggleable__control:checked~div.sk-toggleable__content {max-height: 200px;max-width: 100%;overflow: auto;}#sk-container-id-2 input.sk-toggleable__control:checked~label.sk-toggleable__label-arrow:before {content: \"▾\";}#sk-container-id-2 div.sk-estimator input.sk-toggleable__control:checked~label.sk-toggleable__label {background-color: #d4ebff;}#sk-container-id-2 div.sk-label input.sk-toggleable__control:checked~label.sk-toggleable__label {background-color: #d4ebff;}#sk-container-id-2 input.sk-hidden--visually {border: 0;clip: rect(1px 1px 1px 1px);clip: rect(1px, 1px, 1px, 1px);height: 1px;margin: -1px;overflow: hidden;padding: 0;position: absolute;width: 1px;}#sk-container-id-2 div.sk-estimator {font-family: monospace;background-color: #f0f8ff;border: 1px dotted black;border-radius: 0.25em;box-sizing: border-box;margin-bottom: 0.5em;}#sk-container-id-2 div.sk-estimator:hover {background-color: #d4ebff;}#sk-container-id-2 div.sk-parallel-item::after {content: \"\";width: 100%;border-bottom: 1px solid gray;flex-grow: 1;}#sk-container-id-2 div.sk-label:hover label.sk-toggleable__label {background-color: #d4ebff;}#sk-container-id-2 div.sk-serial::before {content: \"\";position: absolute;border-left: 1px solid gray;box-sizing: border-box;top: 0;bottom: 0;left: 50%;z-index: 0;}#sk-container-id-2 div.sk-serial {display: flex;flex-direction: column;align-items: center;background-color: white;padding-right: 0.2em;padding-left: 0.2em;position: relative;}#sk-container-id-2 div.sk-item {position: relative;z-index: 1;}#sk-container-id-2 div.sk-parallel {display: flex;align-items: stretch;justify-content: center;background-color: white;position: relative;}#sk-container-id-2 div.sk-item::before, #sk-container-id-2 div.sk-parallel-item::before {content: \"\";position: absolute;border-left: 1px solid gray;box-sizing: border-box;top: 0;bottom: 0;left: 50%;z-index: -1;}#sk-container-id-2 div.sk-parallel-item {display: flex;flex-direction: column;z-index: 1;position: relative;background-color: white;}#sk-container-id-2 div.sk-parallel-item:first-child::after {align-self: flex-end;width: 50%;}#sk-container-id-2 div.sk-parallel-item:last-child::after {align-self: flex-start;width: 50%;}#sk-container-id-2 div.sk-parallel-item:only-child::after {width: 0;}#sk-container-id-2 div.sk-dashed-wrapped {border: 1px dashed gray;margin: 0 0.4em 0.5em 0.4em;box-sizing: border-box;padding-bottom: 0.4em;background-color: white;}#sk-container-id-2 div.sk-label label {font-family: monospace;font-weight: bold;display: inline-block;line-height: 1.2em;}#sk-container-id-2 div.sk-label-container {text-align: center;}#sk-container-id-2 div.sk-container {/* jupyter's `normalize.less` sets `[hidden] { display: none; }` but bootstrap.min.css set `[hidden] { display: none !important; }` so we also need the `!important` here to be able to override the default hidden behavior on the sphinx rendered scikit-learn.org. See: https://github.com/scikit-learn/scikit-learn/issues/21755 */display: inline-block !important;position: relative;}#sk-container-id-2 div.sk-text-repr-fallback {display: none;}</style><div id=\"sk-container-id-2\" class=\"sk-top-container\"><div class=\"sk-text-repr-fallback\"><pre>LassoCV(cv=10, eps=1e-06, max_iter=50000000, n_alphas=7, normalize=True,\n",
       "        verbose=0)</pre><b>In a Jupyter environment, please rerun this cell to show the HTML representation or trust the notebook. <br />On GitHub, the HTML representation is unable to render, please try loading this page with nbviewer.org.</b></div><div class=\"sk-container\" hidden><div class=\"sk-item\"><div class=\"sk-estimator sk-toggleable\"><input class=\"sk-toggleable__control sk-hidden--visually\" id=\"sk-estimator-id-2\" type=\"checkbox\" checked><label for=\"sk-estimator-id-2\" class=\"sk-toggleable__label sk-toggleable__label-arrow\">LassoCV</label><div class=\"sk-toggleable__content\"><pre>LassoCV(cv=10, eps=1e-06, max_iter=50000000, n_alphas=7, normalize=True,\n",
       "        verbose=0)</pre></div></div></div></div></div>"
      ],
      "text/plain": [
       "LassoCV(cv=10, eps=1e-06, max_iter=50000000, n_alphas=7, normalize=True,\n",
       "        verbose=0)"
      ]
     },
     "execution_count": 12,
     "metadata": {},
     "output_type": "execute_result"
    }
   ],
   "source": [
    "\n",
    "lin_model1allL.fit(glulamFeatures_traina, glulamMargin_traina)"
   ]
  },
  {
   "cell_type": "code",
   "execution_count": 13,
   "metadata": {},
   "outputs": [],
   "source": [
    "Margin_pred_model1allL = lin_model1allL.predict(glulamFeatures_traina)"
   ]
  },
  {
   "cell_type": "code",
   "execution_count": 14,
   "metadata": {},
   "outputs": [
    {
     "name": "stdout",
     "output_type": "stream",
     "text": [
      "Mean absolute error = 0.0\n",
      "Mean squared error = 0.0\n",
      "Median absolute error = 0.0\n",
      "Explain variance score = 0.64\n",
      "R2 score = 0.64\n"
     ]
    }
   ],
   "source": [
    "#Train_Predict\n",
    "print(\"Mean absolute error =\", round(sm.mean_absolute_error(glulamMargin_traina, Margin_pred_model1allL), 2)) \n",
    "print(\"Mean squared error =\", round(sm.mean_squared_error(glulamMargin_traina, Margin_pred_model1allL), 2)) \n",
    "print(\"Median absolute error =\", round(sm.median_absolute_error(glulamMargin_traina, Margin_pred_model1allL), 2)) \n",
    "print(\"Explain variance score =\", round(sm.explained_variance_score(glulamMargin_traina, Margin_pred_model1allL), 2)) \n",
    "print(\"R2 score =\", round(sm.r2_score(glulamMargin_traina,Margin_pred_model1allL), 2))"
   ]
  },
  {
   "cell_type": "code",
   "execution_count": 15,
   "metadata": {},
   "outputs": [
    {
     "data": {
      "text/html": [
       "<div>\n",
       "<style scoped>\n",
       "    .dataframe tbody tr th:only-of-type {\n",
       "        vertical-align: middle;\n",
       "    }\n",
       "\n",
       "    .dataframe tbody tr th {\n",
       "        vertical-align: top;\n",
       "    }\n",
       "\n",
       "    .dataframe thead th {\n",
       "        text-align: right;\n",
       "    }\n",
       "</style>\n",
       "<table border=\"1\" class=\"dataframe\">\n",
       "  <thead>\n",
       "    <tr style=\"text-align: right;\">\n",
       "      <th></th>\n",
       "      <th>glulamMargin_traina</th>\n",
       "    </tr>\n",
       "  </thead>\n",
       "  <tbody>\n",
       "    <tr>\n",
       "      <th>StatQty3</th>\n",
       "      <td>-0.000000</td>\n",
       "    </tr>\n",
       "    <tr>\n",
       "      <th>NetWeight3</th>\n",
       "      <td>0.287328</td>\n",
       "    </tr>\n",
       "    <tr>\n",
       "      <th>OKLT</th>\n",
       "      <td>-0.000000</td>\n",
       "    </tr>\n",
       "    <tr>\n",
       "      <th>GLT</th>\n",
       "      <td>0.000110</td>\n",
       "    </tr>\n",
       "    <tr>\n",
       "      <th>BLT</th>\n",
       "      <td>-0.000150</td>\n",
       "    </tr>\n",
       "    <tr>\n",
       "      <th>GGGBA</th>\n",
       "      <td>0.000000</td>\n",
       "    </tr>\n",
       "    <tr>\n",
       "      <th>GGGBB</th>\n",
       "      <td>0.000000</td>\n",
       "    </tr>\n",
       "    <tr>\n",
       "      <th>GGGBI</th>\n",
       "      <td>0.000000</td>\n",
       "    </tr>\n",
       "    <tr>\n",
       "      <th>GGGCA</th>\n",
       "      <td>0.000000</td>\n",
       "    </tr>\n",
       "    <tr>\n",
       "      <th>GGGBAOO</th>\n",
       "      <td>0.000000</td>\n",
       "    </tr>\n",
       "    <tr>\n",
       "      <th>GGGBTRT</th>\n",
       "      <td>0.000000</td>\n",
       "    </tr>\n",
       "    <tr>\n",
       "      <th>OKLT-NWT</th>\n",
       "      <td>0.003523</td>\n",
       "    </tr>\n",
       "    <tr>\n",
       "      <th>GLT-NWT</th>\n",
       "      <td>0.000000</td>\n",
       "    </tr>\n",
       "    <tr>\n",
       "      <th>BLT-NWT</th>\n",
       "      <td>0.000000</td>\n",
       "    </tr>\n",
       "    <tr>\n",
       "      <th>GGGBA-NWT</th>\n",
       "      <td>0.001902</td>\n",
       "    </tr>\n",
       "    <tr>\n",
       "      <th>GGGBB-NWT</th>\n",
       "      <td>0.000000</td>\n",
       "    </tr>\n",
       "    <tr>\n",
       "      <th>GGGBI-NWT</th>\n",
       "      <td>0.000000</td>\n",
       "    </tr>\n",
       "    <tr>\n",
       "      <th>GGGCA-NWT</th>\n",
       "      <td>0.000000</td>\n",
       "    </tr>\n",
       "    <tr>\n",
       "      <th>GGGBAOO-NWT</th>\n",
       "      <td>0.000000</td>\n",
       "    </tr>\n",
       "    <tr>\n",
       "      <th>GGGBTRT-NWT</th>\n",
       "      <td>0.000000</td>\n",
       "    </tr>\n",
       "    <tr>\n",
       "      <th>OKLT-StatQty3</th>\n",
       "      <td>0.000000</td>\n",
       "    </tr>\n",
       "    <tr>\n",
       "      <th>GLT-StatQty3</th>\n",
       "      <td>-0.020286</td>\n",
       "    </tr>\n",
       "    <tr>\n",
       "      <th>BLT-StatQty3</th>\n",
       "      <td>0.000000</td>\n",
       "    </tr>\n",
       "    <tr>\n",
       "      <th>GGGBA-StatQty3</th>\n",
       "      <td>-0.000000</td>\n",
       "    </tr>\n",
       "    <tr>\n",
       "      <th>GGGBB-StatQty3</th>\n",
       "      <td>0.000000</td>\n",
       "    </tr>\n",
       "    <tr>\n",
       "      <th>GGGBI-StatQty3</th>\n",
       "      <td>0.000000</td>\n",
       "    </tr>\n",
       "    <tr>\n",
       "      <th>GGGCA-StatQty3</th>\n",
       "      <td>0.000000</td>\n",
       "    </tr>\n",
       "    <tr>\n",
       "      <th>GGGBAOO-StatQty3</th>\n",
       "      <td>0.000000</td>\n",
       "    </tr>\n",
       "    <tr>\n",
       "      <th>GGGBTRT-StatQty3</th>\n",
       "      <td>0.000000</td>\n",
       "    </tr>\n",
       "  </tbody>\n",
       "</table>\n",
       "</div>"
      ],
      "text/plain": [
       "                  glulamMargin_traina\n",
       "StatQty3                    -0.000000\n",
       "NetWeight3                   0.287328\n",
       "OKLT                        -0.000000\n",
       "GLT                          0.000110\n",
       "BLT                         -0.000150\n",
       "GGGBA                        0.000000\n",
       "GGGBB                        0.000000\n",
       "GGGBI                        0.000000\n",
       "GGGCA                        0.000000\n",
       "GGGBAOO                      0.000000\n",
       "GGGBTRT                      0.000000\n",
       "OKLT-NWT                     0.003523\n",
       "GLT-NWT                      0.000000\n",
       "BLT-NWT                      0.000000\n",
       "GGGBA-NWT                    0.001902\n",
       "GGGBB-NWT                    0.000000\n",
       "GGGBI-NWT                    0.000000\n",
       "GGGCA-NWT                    0.000000\n",
       "GGGBAOO-NWT                  0.000000\n",
       "GGGBTRT-NWT                  0.000000\n",
       "OKLT-StatQty3                0.000000\n",
       "GLT-StatQty3                -0.020286\n",
       "BLT-StatQty3                 0.000000\n",
       "GGGBA-StatQty3              -0.000000\n",
       "GGGBB-StatQty3               0.000000\n",
       "GGGBI-StatQty3               0.000000\n",
       "GGGCA-StatQty3               0.000000\n",
       "GGGBAOO-StatQty3             0.000000\n",
       "GGGBTRT-StatQty3             0.000000"
      ]
     },
     "execution_count": 15,
     "metadata": {},
     "output_type": "execute_result"
    }
   ],
   "source": [
    "pd.set_option('display.max_rows', None)\n",
    "coeff_model1allL = pd.DataFrame(lin_model1allL.coef_[0:29], index=glulamFeatures_traina.columns[0:29], \n",
    "                          columns=['glulamMargin_traina'])\n",
    "coeff_model1allL"
   ]
  },
  {
   "cell_type": "code",
   "execution_count": 16,
   "metadata": {},
   "outputs": [
    {
     "name": "stdout",
     "output_type": "stream",
     "text": [
      "Mean absolute error = 0.0\n",
      "Mean squared error = 0.0\n",
      "Median absolute error = 0.0\n",
      "Explain variance score = 0.54\n",
      "R2 score = 0.54\n"
     ]
    }
   ],
   "source": [
    "#Test_Predict\n",
    "\n",
    "Test_Margin_pred_model1allL = lin_model1allL.predict(glulamFeatures_testa)\n",
    "\n",
    "print(\"Mean absolute error =\", round(sm.mean_absolute_error(glulamMargin_testa, Test_Margin_pred_model1allL), 2)) \n",
    "print(\"Mean squared error =\", round(sm.mean_squared_error(glulamMargin_testa, Test_Margin_pred_model1allL), 2)) \n",
    "print(\"Median absolute error =\", round(sm.median_absolute_error(glulamMargin_testa, Test_Margin_pred_model1allL), 2)) \n",
    "print(\"Explain variance score =\", round(sm.explained_variance_score(glulamMargin_testa, Test_Margin_pred_model1allL), 2)) \n",
    "print(\"R2 score =\", round(sm.r2_score(glulamMargin_testa,Test_Margin_pred_model1allL), 2))\n"
   ]
  },
  {
   "cell_type": "markdown",
   "metadata": {},
   "source": [
    "# Ridge_Model"
   ]
  },
  {
   "cell_type": "code",
   "execution_count": 17,
   "metadata": {},
   "outputs": [
    {
     "name": "stderr",
     "output_type": "stream",
     "text": [
      "c:\\Users\\oladi\\AppData\\Local\\Programs\\Python\\Python310\\lib\\site-packages\\sklearn\\linear_model\\_base.py:141: FutureWarning: 'normalize' was deprecated in version 1.0 and will be removed in 1.2.\n",
      "If you wish to scale the data, use Pipeline with a StandardScaler in a preprocessing stage. To reproduce the previous behavior:\n",
      "\n",
      "from sklearn.pipeline import make_pipeline\n",
      "\n",
      "model = make_pipeline(StandardScaler(with_mean=False), Ridge())\n",
      "\n",
      "If you wish to pass a sample_weight parameter, you need to pass it as a fit parameter to each step of the pipeline as follows:\n",
      "\n",
      "kwargs = {s[0] + '__sample_weight': sample_weight for s in model.steps}\n",
      "model.fit(X, y, **kwargs)\n",
      "\n",
      "Set parameter alpha to: original_alpha * n_samples. \n",
      "  warnings.warn(\n"
     ]
    },
    {
     "data": {
      "text/html": [
       "<div>\n",
       "<style scoped>\n",
       "    .dataframe tbody tr th:only-of-type {\n",
       "        vertical-align: middle;\n",
       "    }\n",
       "\n",
       "    .dataframe tbody tr th {\n",
       "        vertical-align: top;\n",
       "    }\n",
       "\n",
       "    .dataframe thead th {\n",
       "        text-align: right;\n",
       "    }\n",
       "</style>\n",
       "<table border=\"1\" class=\"dataframe\">\n",
       "  <thead>\n",
       "    <tr style=\"text-align: right;\">\n",
       "      <th></th>\n",
       "      <th>Ridge model coefficients</th>\n",
       "    </tr>\n",
       "  </thead>\n",
       "  <tbody>\n",
       "    <tr>\n",
       "      <th>StatQty3</th>\n",
       "      <td>0.042604</td>\n",
       "    </tr>\n",
       "    <tr>\n",
       "      <th>NetWeight3</th>\n",
       "      <td>0.042717</td>\n",
       "    </tr>\n",
       "    <tr>\n",
       "      <th>OKLT</th>\n",
       "      <td>0.000033</td>\n",
       "    </tr>\n",
       "    <tr>\n",
       "      <th>GLT</th>\n",
       "      <td>0.000049</td>\n",
       "    </tr>\n",
       "    <tr>\n",
       "      <th>BLT</th>\n",
       "      <td>-0.000072</td>\n",
       "    </tr>\n",
       "    <tr>\n",
       "      <th>GGGBA</th>\n",
       "      <td>0.000000</td>\n",
       "    </tr>\n",
       "    <tr>\n",
       "      <th>GGGBB</th>\n",
       "      <td>0.000000</td>\n",
       "    </tr>\n",
       "    <tr>\n",
       "      <th>GGGBI</th>\n",
       "      <td>0.000000</td>\n",
       "    </tr>\n",
       "    <tr>\n",
       "      <th>GGGCA</th>\n",
       "      <td>0.000000</td>\n",
       "    </tr>\n",
       "    <tr>\n",
       "      <th>GGGBAOO</th>\n",
       "      <td>0.000000</td>\n",
       "    </tr>\n",
       "    <tr>\n",
       "      <th>GGGBTRT</th>\n",
       "      <td>0.000000</td>\n",
       "    </tr>\n",
       "    <tr>\n",
       "      <th>OKLT-NWT</th>\n",
       "      <td>0.037998</td>\n",
       "    </tr>\n",
       "    <tr>\n",
       "      <th>GLT-NWT</th>\n",
       "      <td>0.031587</td>\n",
       "    </tr>\n",
       "    <tr>\n",
       "      <th>BLT-NWT</th>\n",
       "      <td>0.036929</td>\n",
       "    </tr>\n",
       "    <tr>\n",
       "      <th>GGGBA-NWT</th>\n",
       "      <td>0.042717</td>\n",
       "    </tr>\n",
       "    <tr>\n",
       "      <th>GGGBB-NWT</th>\n",
       "      <td>0.000000</td>\n",
       "    </tr>\n",
       "    <tr>\n",
       "      <th>GGGBI-NWT</th>\n",
       "      <td>0.000000</td>\n",
       "    </tr>\n",
       "    <tr>\n",
       "      <th>GGGCA-NWT</th>\n",
       "      <td>0.000000</td>\n",
       "    </tr>\n",
       "    <tr>\n",
       "      <th>GGGBAOO-NWT</th>\n",
       "      <td>0.000000</td>\n",
       "    </tr>\n",
       "    <tr>\n",
       "      <th>GGGBTRT-NWT</th>\n",
       "      <td>0.000000</td>\n",
       "    </tr>\n",
       "    <tr>\n",
       "      <th>OKLT-StatQty3</th>\n",
       "      <td>0.037995</td>\n",
       "    </tr>\n",
       "    <tr>\n",
       "      <th>GLT-StatQty3</th>\n",
       "      <td>0.031171</td>\n",
       "    </tr>\n",
       "    <tr>\n",
       "      <th>BLT-StatQty3</th>\n",
       "      <td>0.037218</td>\n",
       "    </tr>\n",
       "    <tr>\n",
       "      <th>GGGBA-StatQty3</th>\n",
       "      <td>0.042604</td>\n",
       "    </tr>\n",
       "    <tr>\n",
       "      <th>GGGBB-StatQty3</th>\n",
       "      <td>0.000000</td>\n",
       "    </tr>\n",
       "    <tr>\n",
       "      <th>GGGBI-StatQty3</th>\n",
       "      <td>0.000000</td>\n",
       "    </tr>\n",
       "    <tr>\n",
       "      <th>GGGCA-StatQty3</th>\n",
       "      <td>0.000000</td>\n",
       "    </tr>\n",
       "    <tr>\n",
       "      <th>GGGBAOO-StatQty3</th>\n",
       "      <td>0.000000</td>\n",
       "    </tr>\n",
       "    <tr>\n",
       "      <th>GGGBTRT-StatQty3</th>\n",
       "      <td>0.000000</td>\n",
       "    </tr>\n",
       "  </tbody>\n",
       "</table>\n",
       "</div>"
      ],
      "text/plain": [
       "                  Ridge model coefficients\n",
       "StatQty3                          0.042604\n",
       "NetWeight3                        0.042717\n",
       "OKLT                              0.000033\n",
       "GLT                               0.000049\n",
       "BLT                              -0.000072\n",
       "GGGBA                             0.000000\n",
       "GGGBB                             0.000000\n",
       "GGGBI                             0.000000\n",
       "GGGCA                             0.000000\n",
       "GGGBAOO                           0.000000\n",
       "GGGBTRT                           0.000000\n",
       "OKLT-NWT                          0.037998\n",
       "GLT-NWT                           0.031587\n",
       "BLT-NWT                           0.036929\n",
       "GGGBA-NWT                         0.042717\n",
       "GGGBB-NWT                         0.000000\n",
       "GGGBI-NWT                         0.000000\n",
       "GGGCA-NWT                         0.000000\n",
       "GGGBAOO-NWT                       0.000000\n",
       "GGGBTRT-NWT                       0.000000\n",
       "OKLT-StatQty3                     0.037995\n",
       "GLT-StatQty3                      0.031171\n",
       "BLT-StatQty3                      0.037218\n",
       "GGGBA-StatQty3                    0.042604\n",
       "GGGBB-StatQty3                    0.000000\n",
       "GGGBI-StatQty3                    0.000000\n",
       "GGGCA-StatQty3                    0.000000\n",
       "GGGBAOO-StatQty3                  0.000000\n",
       "GGGBTRT-StatQty3                  0.000000"
      ]
     },
     "execution_count": 17,
     "metadata": {},
     "output_type": "execute_result"
    }
   ],
   "source": [
    "lin_model1allR = Ridge(normalize=True, alpha=1)\n",
    "lin_model1allR.fit(glulamFeatures_traina,glulamMargin_traina)\n",
    "ceff_model1allR = pd.DataFrame(lin_model1allR.coef_[0:29], index=glulamFeatures_traina.columns[0:29], columns=['Ridge model coefficients'])\n",
    "ceff_model1allR\n"
   ]
  },
  {
   "cell_type": "code",
   "execution_count": 18,
   "metadata": {},
   "outputs": [
    {
     "name": "stdout",
     "output_type": "stream",
     "text": [
      "Mean absolute error = 0.0\n",
      "Mean squared error = 0.0\n",
      "Median absolute error = 0.0\n",
      "Explain variance score = 0.63\n",
      "R2 score = 0.63\n"
     ]
    }
   ],
   "source": [
    "#Train_Predict\n",
    "Margin_pred_model1allR = lin_model1allR.predict(glulamFeatures_traina)\n",
    "\n",
    "print(\"Mean absolute error =\", round(sm.mean_absolute_error(glulamMargin_traina, Margin_pred_model1allR), 2)) \n",
    "print(\"Mean squared error =\", round(sm.mean_squared_error(glulamMargin_traina, Margin_pred_model1allR), 2)) \n",
    "print(\"Median absolute error =\", round(sm.median_absolute_error(glulamMargin_traina, Margin_pred_model1allR), 2)) \n",
    "print(\"Explain variance score =\", round(sm.explained_variance_score(glulamMargin_traina, Margin_pred_model1allR), 2)) \n",
    "print(\"R2 score =\", round(sm.r2_score(glulamMargin_traina,Margin_pred_model1allR), 2))"
   ]
  },
  {
   "cell_type": "code",
   "execution_count": 19,
   "metadata": {},
   "outputs": [
    {
     "name": "stdout",
     "output_type": "stream",
     "text": [
      "Mean absolute error = 0.0\n",
      "Mean squared error = 0.0\n",
      "Median absolute error = 0.0\n",
      "Explain variance score = 0.41\n",
      "R2 score = 0.4\n"
     ]
    }
   ],
   "source": [
    "#Test_Predict\n",
    "\n",
    "Test_pred_model1allR = lin_model1allR.predict(glulamFeatures_testa)\n",
    "\n",
    "print(\"Mean absolute error =\", round(sm.mean_absolute_error(glulamMargin_testa, Test_pred_model1allR ), 2)) \n",
    "print(\"Mean squared error =\", round(sm.mean_squared_error(glulamMargin_testa, Test_pred_model1allR ), 2)) \n",
    "print(\"Median absolute error =\", round(sm.median_absolute_error(glulamMargin_testa, Test_pred_model1allR ), 2)) \n",
    "print(\"Explain variance score =\", round(sm.explained_variance_score(glulamMargin_testa, Test_pred_model1allR ), 2)) \n",
    "print(\"R2 score =\", round(sm.r2_score(glulamMargin_testa,Test_pred_model1allR), 2))"
   ]
  },
  {
   "cell_type": "code",
   "execution_count": 20,
   "metadata": {},
   "outputs": [],
   "source": [
    "\n",
    "#RandomForest"
   ]
  },
  {
   "cell_type": "markdown",
   "metadata": {},
   "source": [
    "Elastic Net"
   ]
  },
  {
   "cell_type": "code",
   "execution_count": 21,
   "metadata": {},
   "outputs": [
    {
     "name": "stdout",
     "output_type": "stream",
     "text": [
      "Mean absolute error = 0.0\n",
      "Mean squared error = 0.0\n",
      "Median absolute error = 0.0\n",
      "Explain variance score = 0.86\n",
      "R2 score = 0.86\n",
      "Mean absolute error = 0.0\n",
      "Mean squared error = 0.0\n",
      "Median absolute error = 0.0\n",
      "Explain variance score = 0.39\n",
      "R2 score = 0.39\n"
     ]
    }
   ],
   "source": [
    "\n",
    "lin_model1al4RandomeForest= RandomForestRegressor(n_estimators=120)\n",
    "lin_model1al4RandomeForest.fit(glulamFeatures_traina,glulamMargin_traina)\n",
    "lin_model1al4RandomeForest.score(glulamFeatures_traina,glulamMargin_traina)\n",
    "#lin_model1al4RandomeForest.score(glulamFeatures_testa, glulamMargin_testa)\n",
    "#ceff_model1alRandomforest= pd.DataFrame(lin_model1al4RandomeForest.coef_[0:29], index=glulamFeatures_traina.columns[0:29], columns=['RandomForest Model coefficients'])\n",
    "#ceff_model1alRandomforest\n",
    "\n",
    "#Train_Predict\n",
    "Margin_pred_model1allRandomeForest = lin_model1al4RandomeForest.predict(glulamFeatures_traina)\n",
    "\n",
    "print(\"Mean absolute error =\", round(sm.mean_absolute_error(glulamMargin_traina, Margin_pred_model1allRandomeForest), 2)) \n",
    "print(\"Mean squared error =\", round(sm.mean_squared_error(glulamMargin_traina, Margin_pred_model1allRandomeForest), 2)) \n",
    "print(\"Median absolute error =\", round(sm.median_absolute_error(glulamMargin_traina, Margin_pred_model1allRandomeForest), 2)) \n",
    "print(\"Explain variance score =\", round(sm.explained_variance_score(glulamMargin_traina, Margin_pred_model1allRandomeForest), 2)) \n",
    "print(\"R2 score =\", round(sm.r2_score(glulamMargin_traina,Margin_pred_model1allRandomeForest), 2))\n",
    "\n",
    "#Test_Predict\n",
    "Margin_pred_model1allRandomeForest = lin_model1al4RandomeForest.predict(glulamFeatures_testa)\n",
    "\n",
    "print(\"Mean absolute error =\", round(sm.mean_absolute_error(glulamMargin_testa, Margin_pred_model1allRandomeForest ), 2)) \n",
    "print(\"Mean squared error =\", round(sm.mean_squared_error(glulamMargin_testa, Margin_pred_model1allRandomeForest), 2)) \n",
    "print(\"Median absolute error =\", round(sm.median_absolute_error(glulamMargin_testa, Margin_pred_model1allRandomeForest ), 2)) \n",
    "print(\"Explain variance score =\", round(sm.explained_variance_score(glulamMargin_testa, Margin_pred_model1allRandomeForest ), 2)) \n",
    "print(\"R2 score =\", round(sm.r2_score(glulamMargin_testa,Margin_pred_model1allRandomeForest), 2))"
   ]
  },
  {
   "cell_type": "code",
   "execution_count": 22,
   "metadata": {},
   "outputs": [],
   "source": [
    "#lin_model1allElastic= ElasticNet(alpha=100, l1_ratio=1,normalize=True,eps=0.000001,n_alphas=5, tol=0.0001,max_iter=5000)\n",
    "#lin_model1allElastic.fit(glulamFeatures_traina,glulamMargin_traina)\n",
    "#coeff_linElastic = pd.DataFrame(lin_model1allElastic.coef_[0:29], index=glulamFeatures_traina.columns[0:29], columns=['ElasticNet model coefficients'])\n",
    "#coeff_linElastic"
   ]
  },
  {
   "cell_type": "markdown",
   "metadata": {},
   "source": [
    "Neural Net"
   ]
  },
  {
   "cell_type": "code",
   "execution_count": 23,
   "metadata": {},
   "outputs": [
    {
     "ename": "NameError",
     "evalue": "name 'Sequential' is not defined",
     "output_type": "error",
     "traceback": [
      "\u001b[1;31m---------------------------------------------------------------------------\u001b[0m",
      "\u001b[1;31mNameError\u001b[0m                                 Traceback (most recent call last)",
      "\u001b[1;32mc:\\Users\\oladi\\OneDrive\\Documents\\MachineLearningWeyerhaeuser\\Glulam Leadtime Analysis\\Model1.ipynb Cell 26\u001b[0m in \u001b[0;36m<cell line: 1>\u001b[1;34m()\u001b[0m\n\u001b[1;32m----> <a href='vscode-notebook-cell:/c%3A/Users/oladi/OneDrive/Documents/MachineLearningWeyerhaeuser/Glulam%20Leadtime%20Analysis/Model1.ipynb#ch0000025?line=0'>1</a>\u001b[0m model \u001b[39m=\u001b[39m Sequential([\n\u001b[0;32m      <a href='vscode-notebook-cell:/c%3A/Users/oladi/OneDrive/Documents/MachineLearningWeyerhaeuser/Glulam%20Leadtime%20Analysis/Model1.ipynb#ch0000025?line=1'>2</a>\u001b[0m     Dense(\u001b[39m16\u001b[39m, input_shape\u001b[39m=\u001b[39m(\u001b[39m29\u001b[39m,), activation\u001b[39m=\u001b[39m\u001b[39m'\u001b[39m\u001b[39mrelu\u001b[39m\u001b[39m'\u001b[39m),\n\u001b[0;32m      <a href='vscode-notebook-cell:/c%3A/Users/oladi/OneDrive/Documents/MachineLearningWeyerhaeuser/Glulam%20Leadtime%20Analysis/Model1.ipynb#ch0000025?line=2'>3</a>\u001b[0m     Dense(\u001b[39m64\u001b[39m, activation\u001b[39m=\u001b[39m\u001b[39m'\u001b[39m\u001b[39mrelu\u001b[39m\u001b[39m'\u001b[39m),\n\u001b[0;32m      <a href='vscode-notebook-cell:/c%3A/Users/oladi/OneDrive/Documents/MachineLearningWeyerhaeuser/Glulam%20Leadtime%20Analysis/Model1.ipynb#ch0000025?line=3'>4</a>\u001b[0m     Dense(\u001b[39m1\u001b[39m)\n\u001b[0;32m      <a href='vscode-notebook-cell:/c%3A/Users/oladi/OneDrive/Documents/MachineLearningWeyerhaeuser/Glulam%20Leadtime%20Analysis/Model1.ipynb#ch0000025?line=4'>5</a>\u001b[0m ])\n\u001b[0;32m      <a href='vscode-notebook-cell:/c%3A/Users/oladi/OneDrive/Documents/MachineLearningWeyerhaeuser/Glulam%20Leadtime%20Analysis/Model1.ipynb#ch0000025?line=5'>6</a>\u001b[0m \u001b[39m#optimizer=tf.keras.optimizer.RMSprop(0.001)\u001b[39;00m\n\u001b[0;32m      <a href='vscode-notebook-cell:/c%3A/Users/oladi/OneDrive/Documents/MachineLearningWeyerhaeuser/Glulam%20Leadtime%20Analysis/Model1.ipynb#ch0000025?line=6'>7</a>\u001b[0m model\u001b[39m.\u001b[39mcompile(Adam(lr\u001b[39m=\u001b[39m\u001b[39m.0001\u001b[39m), loss\u001b[39m=\u001b[39m\u001b[39m'\u001b[39m\u001b[39mmse\u001b[39m\u001b[39m'\u001b[39m, metrics\u001b[39m=\u001b[39m[\u001b[39m'\u001b[39m\u001b[39mmae\u001b[39m\u001b[39m'\u001b[39m,\u001b[39m'\u001b[39m\u001b[39mmse\u001b[39m\u001b[39m'\u001b[39m])\n",
      "\u001b[1;31mNameError\u001b[0m: name 'Sequential' is not defined"
     ]
    }
   ],
   "source": [
    "\n",
    "model = Sequential([\n",
    "    Dense(16, input_shape=(29,), activation='relu'),\n",
    "    Dense(64, activation='relu'),\n",
    "    Dense(1)\n",
    "])\n",
    "#optimizer=tf.keras.optimizer.RMSprop(0.001)\n",
    "model.compile(Adam(lr=.0001), loss='mse', metrics=['mae','mse'])\n",
    "Epochs=3\n",
    "early_stop=keras.callbacks.EarlyStopping(monitor='val_loss', patience=10)\n",
    "model.fit(glulamFeatures_traina, glulamMargin_traina, batch_size=10, epochs=Epochs, validation_split=0.2, shuffle=True, verbose=2, callbacks=[early_stop])"
   ]
  },
  {
   "cell_type": "code",
   "execution_count": null,
   "metadata": {},
   "outputs": [
    {
     "name": "stdout",
     "output_type": "stream",
     "text": [
      "4191/4191 [==============================] - 6s 1ms/step\n",
      "Mean absolute error = 0.0\n",
      "Mean squared error = 0.0\n",
      "Median absolute error = 0.0\n",
      "Explain variance score = 0.0\n",
      "R2 score = -0.0\n"
     ]
    }
   ],
   "source": [
    "#Train_Predict\n",
    "Margin_pred_model1allNeuralNet= model.predict(glulamFeatures_traina)\n",
    "\n",
    "\n",
    "#Train_data\n",
    "\n",
    "print(\"Mean absolute error =\", round(sm.mean_absolute_error(glulamMargin_traina, Margin_pred_model1allNeuralNet), 2)) \n",
    "print(\"Mean squared error =\", round(sm.mean_squared_error(glulamMargin_traina, Margin_pred_model1allNeuralNet), 2)) \n",
    "print(\"Median absolute error =\", round(sm.median_absolute_error(glulamMargin_traina, Margin_pred_model1allNeuralNet), 2)) \n",
    "print(\"Explain variance score =\", round(sm.explained_variance_score(glulamMargin_traina, Margin_pred_model1allNeuralNet), 2)) \n",
    "print(\"R2 score =\", round(sm.r2_score(glulamMargin_traina,Margin_pred_model1allNeuralNet), 2))"
   ]
  },
  {
   "cell_type": "code",
   "execution_count": null,
   "metadata": {},
   "outputs": [
    {
     "name": "stdout",
     "output_type": "stream",
     "text": [
      "1048/1048 [==============================] - 2s 2ms/step\n",
      "Mean absolute error = 0.0\n",
      "Mean squared error = 0.0\n",
      "Median absolute error = 0.0\n",
      "Explain variance score = 0.0\n",
      "R2 score = -0.0\n"
     ]
    }
   ],
   "source": [
    "#Test_data\n",
    "Margin_pred_model1allNeuralNet= model.predict(glulamFeatures_testa)\n",
    "print(\"Mean absolute error =\", round(sm.mean_absolute_error(glulamMargin_testa, Margin_pred_model1allNeuralNet), 2)) \n",
    "print(\"Mean squared error =\", round(sm.mean_squared_error(glulamMargin_testa, Margin_pred_model1allNeuralNet), 2)) \n",
    "print(\"Median absolute error =\", round(sm.median_absolute_error(glulamMargin_testa, Margin_pred_model1allNeuralNet ), 2)) \n",
    "print(\"Explain variance score =\", round(sm.explained_variance_score(glulamMargin_testa, Margin_pred_model1allNeuralNet ), 2)) \n",
    "print(\"R2 score =\", round(sm.r2_score(glulamMargin_testa,Margin_pred_model1allNeuralNet), 2))"
   ]
  },
  {
   "cell_type": "code",
   "execution_count": null,
   "metadata": {},
   "outputs": [
    {
     "name": "stdout",
     "output_type": "stream",
     "text": [
      "Epoch 1/3\n",
      "10729/10729 - 32s - loss: 4.3186e-05 - mae: 0.0028 - mse: 4.3186e-05 - val_loss: 3.7678e-05 - val_mae: 0.0025 - val_mse: 3.7678e-05 - 32s/epoch - 3ms/step\n",
      "Epoch 2/3\n",
      "10729/10729 - 23s - loss: 4.3153e-05 - mae: 0.0028 - mse: 4.3153e-05 - val_loss: 3.8695e-05 - val_mae: 0.0034 - val_mse: 3.8695e-05 - 23s/epoch - 2ms/step\n",
      "Epoch 3/3\n",
      "10729/10729 - 21s - loss: 4.3003e-05 - mae: 0.0028 - mse: 4.3003e-05 - val_loss: 3.9977e-05 - val_mae: 0.0028 - val_mse: 3.9977e-05 - 21s/epoch - 2ms/step\n"
     ]
    },
    {
     "data": {
      "text/html": [
       "<div>\n",
       "<style scoped>\n",
       "    .dataframe tbody tr th:only-of-type {\n",
       "        vertical-align: middle;\n",
       "    }\n",
       "\n",
       "    .dataframe tbody tr th {\n",
       "        vertical-align: top;\n",
       "    }\n",
       "\n",
       "    .dataframe thead th {\n",
       "        text-align: right;\n",
       "    }\n",
       "</style>\n",
       "<table border=\"1\" class=\"dataframe\">\n",
       "  <thead>\n",
       "    <tr style=\"text-align: right;\">\n",
       "      <th></th>\n",
       "      <th>loss</th>\n",
       "      <th>mae</th>\n",
       "      <th>mse</th>\n",
       "      <th>val_loss</th>\n",
       "      <th>val_mae</th>\n",
       "      <th>val_mse</th>\n",
       "      <th>Epoch</th>\n",
       "    </tr>\n",
       "  </thead>\n",
       "  <tbody>\n",
       "    <tr>\n",
       "      <th>0</th>\n",
       "      <td>0.000043</td>\n",
       "      <td>0.002850</td>\n",
       "      <td>0.000043</td>\n",
       "      <td>0.000038</td>\n",
       "      <td>0.002471</td>\n",
       "      <td>0.000038</td>\n",
       "      <td>0</td>\n",
       "    </tr>\n",
       "    <tr>\n",
       "      <th>1</th>\n",
       "      <td>0.000043</td>\n",
       "      <td>0.002845</td>\n",
       "      <td>0.000043</td>\n",
       "      <td>0.000039</td>\n",
       "      <td>0.003442</td>\n",
       "      <td>0.000039</td>\n",
       "      <td>1</td>\n",
       "    </tr>\n",
       "    <tr>\n",
       "      <th>2</th>\n",
       "      <td>0.000043</td>\n",
       "      <td>0.002825</td>\n",
       "      <td>0.000043</td>\n",
       "      <td>0.000040</td>\n",
       "      <td>0.002765</td>\n",
       "      <td>0.000040</td>\n",
       "      <td>2</td>\n",
       "    </tr>\n",
       "  </tbody>\n",
       "</table>\n",
       "</div>"
      ],
      "text/plain": [
       "       loss       mae       mse  val_loss   val_mae   val_mse  Epoch\n",
       "0  0.000043  0.002850  0.000043  0.000038  0.002471  0.000038      0\n",
       "1  0.000043  0.002845  0.000043  0.000039  0.003442  0.000039      1\n",
       "2  0.000043  0.002825  0.000043  0.000040  0.002765  0.000040      2"
      ]
     },
     "execution_count": 27,
     "metadata": {},
     "output_type": "execute_result"
    }
   ],
   "source": [
    "#Re-run the model to visualize and so,  save the model in\n",
    "lin_model1allNeuralNet=model.fit(glulamFeatures_traina, glulamMargin_traina, batch_size=10, epochs=Epochs, validation_split=0.2, shuffle=True, verbose=2, callbacks=[early_stop])\n",
    " \n",
    "\n",
    "#Visuals lin_model1allNeuralNet.history\n",
    "NeuralNetVisuals= pd.DataFrame(lin_model1allNeuralNet.history)\n",
    "NeuralNetVisuals['Epoch']= lin_model1allNeuralNet.epoch\n",
    "NeuralNetVisuals.tail()"
   ]
  },
  {
   "cell_type": "code",
   "execution_count": null,
   "metadata": {},
   "outputs": [
    {
     "data": {
      "image/png": "[encoded data removed]",
      "text/plain": [
       "<Figure size 432x288 with 1 Axes>"
      ]
     },
     "metadata": {
      "needs_background": "light"
     },
     "output_type": "display_data"
    },
    {
     "data": {
      "image/png": "[encoded data removed]",
      "text/plain": [
       "<Figure size 432x288 with 1 Axes>"
      ]
     },
     "metadata": {
      "needs_background": "light"
     },
     "output_type": "display_data"
    }
   ],
   "source": [
    "def plot_in_model1allNeuralNet(history):\n",
    "    NeuralNetVisuals=pd.DataFrame(lin_model1allNeuralNet.history)\n",
    "    NeuralNetVisuals['epoch']= lin_model1allNeuralNet.epoch\n",
    "    \n",
    "    plt.figure()\n",
    "    plt.xlabel('epoch')\n",
    "    plt.ylabel('Mean Absolute Error') \n",
    "    plt.plot(NeuralNetVisuals['epoch'],NeuralNetVisuals['mae'],label='MAE')\n",
    "    plt.plot(NeuralNetVisuals['epoch'],NeuralNetVisuals['val_mae'],label='Val_MAE')\n",
    "    plt.legend()\n",
    "    plt.ylim([0,0.005])   \n",
    "    \n",
    "    plt.figure()\n",
    "    plt.xlabel('epoch')\n",
    "    plt.ylabel('Mean Square Error') \n",
    "    plt.plot(NeuralNetVisuals['epoch'],NeuralNetVisuals['mse'],label='MSE')\n",
    "    plt.plot(NeuralNetVisuals['epoch'],NeuralNetVisuals['val_mse'],label='Val_MSE')\n",
    "    plt.legend()\n",
    "    plt.ylim([0,0.00005]) \n",
    "plot_in_model1allNeuralNet(lin_model1allNeuralNet)"
   ]
  },
  {
   "cell_type": "markdown",
   "metadata": {},
   "source": [
    "#Gradient Boosting"
   ]
  },
  {
   "cell_type": "code",
   "execution_count": null,
   "metadata": {},
   "outputs": [
    {
     "ename": "NameError",
     "evalue": "name 'XGBRegressor' is not defined",
     "output_type": "error",
     "traceback": [
      "\u001b[1;31m---------------------------------------------------------------------------\u001b[0m",
      "\u001b[1;31mNameError\u001b[0m                                 Traceback (most recent call last)",
      "\u001b[1;32mc:\\Users\\ShodipeO\\Weyerhaeuser\\Distribution Business Development Team - Business Intelligence Development\\Machine Learning Work\\Glulam Leadtime Analysis\\Model1.ipynb Cell 34\u001b[0m in \u001b[0;36m<cell line: 1>\u001b[1;34m()\u001b[0m\n\u001b[1;32m----> <a href='vscode-notebook-cell:/c%3A/Users/ShodipeO/Weyerhaeuser/Distribution%20Business%20Development%20Team%20-%20Business%20Intelligence%20Development/Machine%20Learning%20Work/Glulam%20Leadtime%20Analysis/Model1.ipynb#ch0000033?line=0'>1</a>\u001b[0m lin_model1allGradientBoost\u001b[39m=\u001b[39m XGBRegressor(verbosity\u001b[39m=\u001b[39m\u001b[39m0\u001b[39m)\n\u001b[0;32m      <a href='vscode-notebook-cell:/c%3A/Users/ShodipeO/Weyerhaeuser/Distribution%20Business%20Development%20Team%20-%20Business%20Intelligence%20Development/Machine%20Learning%20Work/Glulam%20Leadtime%20Analysis/Model1.ipynb#ch0000033?line=1'>2</a>\u001b[0m lin_model1allGradientBoost\u001b[39m.\u001b[39mfit(glulamFeatures_traina,glulamMargin_traina)\n\u001b[0;32m      <a href='vscode-notebook-cell:/c%3A/Users/ShodipeO/Weyerhaeuser/Distribution%20Business%20Development%20Team%20-%20Business%20Intelligence%20Development/Machine%20Learning%20Work/Glulam%20Leadtime%20Analysis/Model1.ipynb#ch0000033?line=2'>3</a>\u001b[0m lin_model1allGradientBoost_Score\u001b[39m=\u001b[39mlin_model1allGradientBoost\u001b[39m.\u001b[39mscore(glulamFeatures_traina,glulamMargin_traina)\n",
      "\u001b[1;31mNameError\u001b[0m: name 'XGBRegressor' is not defined"
     ]
    }
   ],
   "source": [
    "lin_model1allGradientBoost= XGBRegressor(verbosity=0)\n",
    "lin_model1allGradientBoost.fit(glulamFeatures_traina,glulamMargin_traina)\n",
    "lin_model1allGradientBoost_Score=lin_model1allGradientBoost.score(glulamFeatures_traina,glulamMargin_traina)\n",
    "lin_model1allGradientBoost_Score\n"
   ]
  },
  {
   "cell_type": "code",
   "execution_count": null,
   "metadata": {},
   "outputs": [
    {
     "ename": "SyntaxError",
     "evalue": "invalid syntax (3076189560.py, line 1)",
     "output_type": "error",
     "traceback": [
      "\u001b[1;36m  Input \u001b[1;32mIn [126]\u001b[1;36m\u001b[0m\n\u001b[1;33m    lin_model1allNeuralNet summary()\u001b[0m\n\u001b[1;37m                           ^\u001b[0m\n\u001b[1;31mSyntaxError\u001b[0m\u001b[1;31m:\u001b[0m invalid syntax\n"
     ]
    }
   ],
   "source": [
    "\n",
    "lin_model1allGradientBoost_Score_CV=cross_val_score(lin_model1allGradientBoost,glulamFeatures_traina,glulamMargin_traina, cv=10)\n",
    "lin_model1allGradientBoost_Score_CV.mean()\n"
   ]
  },
  {
   "cell_type": "code",
   "execution_count": null,
   "metadata": {},
   "outputs": [],
   "source": [
    "Margin_pred_model1allGradientBoosting= lin_model1allGradientBoost.predict(glulamFeatures_traina)\n",
    "#Train_data\n",
    "\n",
    "print(\"Mean absolute error =\", round(sm.mean_absolute_error(glulamMargin_traina, Margin_pred_model1allGradientBoosting), 2)) \n",
    "print(\"Mean squared error =\", round(sm.mean_squared_error(glulamMargin_traina, Margin_pred_model1allGradientBoosting), 2)) \n",
    "print(\"Median absolute error =\", round(sm.median_absolute_error(glulamMargin_traina, Margin_pred_model1allGradientBoosting), 2)) \n",
    "print(\"Explain variance score =\", round(sm.explained_variance_score(glulamMargin_traina, Margin_pred_model1allGradientBoosting), 2)) \n",
    "print(\"R2 score =\", round(sm.r2_score(glulamMargin_traina,Margin_pred_model1allGradientBoosting), 2))\n"
   ]
  },
  {
   "cell_type": "code",
   "execution_count": null,
   "metadata": {},
   "outputs": [],
   "source": []
  },
  {
   "cell_type": "code",
   "execution_count": null,
   "metadata": {},
   "outputs": [],
   "source": []
  }
 ],
 "metadata": {
  "kernelspec": {
   "display_name": "Python 3.10.5 64-bit",
   "language": "python",
   "name": "python3"
  },
  "language_info": {
   "codemirror_mode": {
    "name": "ipython",
    "version": 3
   },
   "file_extension": ".py",
   "mimetype": "text/x-python",
   "name": "python",
   "nbconvert_exporter": "python",
   "pygments_lexer": "ipython3",
   "version": "3.10.5"
  },
  "orig_nbformat": 4,
  "vscode": {
   "interpreter": {
    "hash": "debe3f3f75bfddb878a2982642714d645cfae3c5bae2e19ad2f59df9ee6cf6af"
   }
  }
 },
 "nbformat": 4,
 "nbformat_minor": 2
}
