{
 "cells": [
  {
   "cell_type": "code",
   "execution_count": 1,
   "metadata": {},
   "outputs": [],
   "source": [
    "import scipy as sci\n",
    "import joblib as job\n",
    "import numpy as np\n",
    "import pandas as pd\n",
    "from sklearn import linear_model\n",
    "from sklearn.linear_model import Ridge, Lasso, ElasticNet\n",
    "from sklearn.metrics import mean_squared_error,r2_score\n",
    "from sklearn.model_selection import train_test_split, cross_val_score\n",
    "from sklearn import model_selection\n",
    "from sklearn.preprocessing import MinMaxScaler\n",
    "import matplotlib.pyplot as plt\n",
    "from sklearn.linear_model import RidgeCV, LassoCV,ElasticNetCV, MultiTaskLasso, MultiTaskElasticNetCV\n",
    "from sklearn.linear_model import MultiTaskLassoCV\n",
    "from sklearn.metrics import r2_score\n",
    "from sklearn.datasets import make_regression\n",
    "from sklearn.ensemble import RandomForestClassifier\n",
    "from sklearn.ensemble import RandomForestRegressor\n",
    "#import statsmodels.api as sm\n",
    "from sklearn.preprocessing import OneHotEncoder\n",
    "import sklearn.metrics as sm\n",
    "from sklearn.preprocessing import MinMaxScaler\n",
    "\n",
    "import numpy as np\n",
    "import pandas as pd\n",
    "import matplotlib.pyplot as plt\n",
    "#%matplotlib inline\n",
    "from sklearn.linear_model import RidgeCV, LassoCV,ElasticNetCV\n"
   ]
  },
  {
   "cell_type": "code",
   "execution_count": 2,
   "metadata": {},
   "outputs": [
    {
     "name": "stdout",
     "output_type": "stream",
     "text": [
      "['SQL Server', 'ODBC Driver 17 for SQL Server', 'Microsoft Access Driver (*.mdb, *.accdb)', 'Microsoft Excel Driver (*.xls, *.xlsx, *.xlsm, *.xlsb)', 'Microsoft Access Text Driver (*.txt, *.csv)', 'SQL Server Native Client 11.0', 'ODBC Driver 18 for SQL Server', 'Microsoft Access dBASE Driver (*.dbf, *.ndx, *.mdx)']\n"
     ]
    },
    {
     "name": "stderr",
     "output_type": "stream",
     "text": [
      "C:\\Users\\oladi\\AppData\\Roaming\\Python\\Python39\\site-packages\\pandas\\io\\sql.py:761: UserWarning: pandas only support SQLAlchemy connectable(engine/connection) ordatabase string URI or sqlite3 DBAPI2 connectionother DBAPI2 objects are not tested, please consider using SQLAlchemy\n",
      "  warnings.warn(\n"
     ]
    },
    {
     "name": "stdout",
     "output_type": "stream",
     "text": [
      "        NAME  pcincome  hrent     place          state  \\\n",
      "0      52800   32432.0  766.0      Olpe         Kansas   \n",
      "1      52900    9028.0  955.0    Oneida         Kansas   \n",
      "2      53200   26387.0  820.0     Osage         Kansas   \n",
      "3      53525   21074.0  950.0      Otis         Kansas   \n",
      "4      54125   33589.0  544.0     Palco         Kansas   \n",
      "...      ...       ...    ...       ...            ...   \n",
      "22799  63604   26810.0  510.0  Piedmont  West Virginia   \n",
      "22800  63772   34114.0  864.0     Pinch  West Virginia   \n",
      "22801  66412   12468.0  731.0  Quinwood  West Virginia   \n",
      "22802  70828   15904.0  588.0    Rupert  West Virginia   \n",
      "22803  75820   20127.0  580.0   Spencer  West Virginia   \n",
      "\n",
      "                            Placeid  \n",
      "0                 52800-Olpe-Kansas  \n",
      "1               52900-Oneida-Kansas  \n",
      "2                53200-Osage-Kansas  \n",
      "3                 53525-Otis-Kansas  \n",
      "4                54125-Palco-Kansas  \n",
      "...                             ...  \n",
      "22799  63604-Piedmont-West Virginia  \n",
      "22800     63772-Pinch-West Virginia  \n",
      "22801  66412-Quinwood-West Virginia  \n",
      "22802    70828-Rupert-West Virginia  \n",
      "22803   75820-Spencer-West Virginia  \n",
      "\n",
      "[22804 rows x 6 columns]\n"
     ]
    }
   ],
   "source": [
    "import pyodbc\n",
    "\n",
    "# Print available ODBC drivers\n",
    "print(pyodbc.drivers())\n",
    "\n",
    "# Connect to SQL Server\n",
    "conn = pyodbc.connect('DRIVER={ODBC Driver 17 for SQL Server};'\n",
    "                      'SERVER=\"\";'\n",
    "                      'DATABASE=MeMawBestKnowBest;'\n",
    "                      'user=cyfo123;'\n",
    "                      'password=cyfo1234;'\n",
    "                      'Trusted_Connection=yes;')\n",
    "sql_query = \"select  * from [MeMawBestKnowBest].[dbo].[Income_Rent_Data]\"\n",
    "conn.execute(sql_query)\n",
    "inc_rent = pd.read_sql(sql_query, conn)\n",
    "print(inc_rent)"
   ]
  },
  {
   "cell_type": "code",
   "execution_count": 3,
   "metadata": {},
   "outputs": [
    {
     "name": "stdout",
     "output_type": "stream",
     "text": [
      "        NAME  pcincome  hrent     place          state  \\\n",
      "0      52800   32432.0  766.0      Olpe         Kansas   \n",
      "1      52900    9028.0  955.0    Oneida         Kansas   \n",
      "2      53200   26387.0  820.0     Osage         Kansas   \n",
      "3      53525   21074.0  950.0      Otis         Kansas   \n",
      "4      54125   33589.0  544.0     Palco         Kansas   \n",
      "...      ...       ...    ...       ...            ...   \n",
      "22799  63604   26810.0  510.0  Piedmont  West Virginia   \n",
      "22800  63772   34114.0  864.0     Pinch  West Virginia   \n",
      "22801  66412   12468.0  731.0  Quinwood  West Virginia   \n",
      "22802  70828   15904.0  588.0    Rupert  West Virginia   \n",
      "22803  75820   20127.0  580.0   Spencer  West Virginia   \n",
      "\n",
      "                            Placeid    income      rent  \n",
      "0                 52800-Olpe-Kansas  0.086256  0.196061  \n",
      "1               52900-Oneida-Kansas  0.016884  0.251617  \n",
      "2                53200-Osage-Kansas  0.068338  0.211934  \n",
      "3                 53525-Otis-Kansas  0.052590  0.250147  \n",
      "4                54125-Palco-Kansas  0.089686  0.130805  \n",
      "...                             ...       ...       ...  \n",
      "22799  63604-Piedmont-West Virginia  0.069592  0.120811  \n",
      "22800     63772-Pinch-West Virginia  0.091242  0.224868  \n",
      "22801  66412-Quinwood-West Virginia  0.027080  0.185773  \n",
      "22802    70828-Rupert-West Virginia  0.037265  0.143739  \n",
      "22803   75820-Spencer-West Virginia  0.049783  0.141387  \n",
      "\n",
      "[22804 rows x 8 columns]\n"
     ]
    }
   ],
   "source": [
    "scaler = MinMaxScaler()\n",
    "inc_rent[['income', 'rent']] = scaler.fit_transform(inc_rent[['pcincome', 'hrent']])\n",
    "pd.set_option('display.max_columns', None)\n",
    "print(inc_rent)"
   ]
  },
  {
   "cell_type": "code",
   "execution_count": 6,
   "metadata": {},
   "outputs": [
    {
     "name": "stdout",
     "output_type": "stream",
     "text": [
      "0        0.807290\n",
      "1        0.774203\n",
      "2        0.545462\n",
      "3        0.757908\n",
      "4        0.582970\n",
      "           ...   \n",
      "22799    0.638033\n",
      "22800    0.752396\n",
      "22801    0.665225\n",
      "22802    0.401839\n",
      "22803    0.714750\n",
      "Length: 22804, dtype: float64\n"
     ]
    }
   ],
   "source": [
    "\n",
    "# City Score: Make rend negative and create a score for each city\n",
    "int_rent_place=inc_rent[['place', 'state', 'Placeid']] \n",
    "inc_rent['rent'] *= -1\n",
    "inc_rent_data_v1 = inc_rent[['income', 'rent']]\n",
    "# Generate random numbers for all iterations and Initialize an empty DataFrame to store CityScores for each iteration and Calculate CityScore \n",
    "# with random numbers added for each iteration and  Calculate the average CityScore for each row across all iterations\n",
    "iterations = 10\n",
    "ran_num = np.random.rand(iterations, len(inc_rent_data_v1))\n",
    "CityScore_df = pd.DataFrame(index=inc_rent_data_v1.index, columns=range(iterations))\n",
    "for i in range(iterations):\n",
    "    CityScore_df[i] = 0.5 * inc_rent_data_v1['income'] + 0.5 * inc_rent_data_v1['rent'] + ran_num[i]\n",
    "CityScore = CityScore_df.mean(axis=1)\n",
    "\n",
    "inc_rent_data = pd.DataFrame({'CityScore': CityScore, 'income': inc_rent_data_v1['income'], 'rent': inc_rent_data_v1['rent']})\n",
    "\n",
    "y_inc_rent_data=inc_rent_data['CityScore']\n",
    "x_inc_rent_data=inc_rent_data.drop(['CityScore'],axis=1)\n",
    "\n",
    "print(CityScore)"
   ]
  },
  {
   "cell_type": "code",
   "execution_count": 7,
   "metadata": {},
   "outputs": [
    {
     "name": "stdout",
     "output_type": "stream",
     "text": [
      "Stored 'y_inc_rent_score_train' (Series)\n",
      "Stored 'y_inc_rent_score_test' (Series)\n",
      "Stored 'x_inc_rent_score_train' (DataFrame)\n",
      "Stored 'x_inc_rent_score_test' (DataFrame)\n",
      "Stored 'y_inc_rent_data' (Series)\n",
      "Stored 'x_inc_rent_data' (DataFrame)\n",
      "Stored 'int_rent_place' (DataFrame)\n"
     ]
    }
   ],
   "source": [
    "#Create Test Size\n",
    "Testsize=round(0.0*len(inc_rent_data.index))\n",
    "y_inc_rent_score_train=y_inc_rent_data[:-Testsize]\n",
    "y_inc_rent_score_test=y_inc_rent_data[-Testsize:]\n",
    "x_inc_rent_score_train=x_inc_rent_data[:-Testsize]\n",
    "x_inc_rent_score_test=x_inc_rent_data[-Testsize:]\n",
    "\n",
    "\n",
    "\n",
    "\n",
    "\n",
    "#Store Data\n",
    "%store y_inc_rent_score_train\n",
    "%store y_inc_rent_score_test\n",
    "%store x_inc_rent_score_train\n",
    "%store x_inc_rent_score_test\n",
    "%store y_inc_rent_data\n",
    "%store x_inc_rent_data\n",
    "%store int_rent_place\n"
   ]
  }
 ],
 "metadata": {
  "kernelspec": {
   "display_name": "base",
   "language": "python",
   "name": "python3"
  },
  "language_info": {
   "codemirror_mode": {
    "name": "ipython",
    "version": 3
   },
   "file_extension": ".py",
   "mimetype": "text/x-python",
   "name": "python",
   "nbconvert_exporter": "python",
   "pygments_lexer": "ipython3",
   "version": "3.9.12"
  }
 },
 "nbformat": 4,
 "nbformat_minor": 2
}
